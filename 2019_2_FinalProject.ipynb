{
  "nbformat": 4,
  "nbformat_minor": 0,
  "metadata": {
    "kernelspec": {
      "display_name": "Python 3",
      "language": "python",
      "name": "python3"
    },
    "language_info": {
      "codemirror_mode": {
        "name": "ipython",
        "version": 3
      },
      "file_extension": ".py",
      "mimetype": "text/x-python",
      "name": "python",
      "nbconvert_exporter": "python",
      "pygments_lexer": "ipython3",
      "version": "3.7.5"
    },
    "colab": {
      "name": "2019_2_FinalProject.ipynb",
      "provenance": [],
      "collapsed_sections": []
    }
  },
  "cells": [
    {
      "cell_type": "markdown",
      "metadata": {
        "id": "XCEJRBNsYwrK",
        "colab_type": "text"
      },
      "source": [
        "[![Open In Colab](https://colab.research.google.com/assets/colab-badge.svg)](https://colab.research.google.com/github/SeoulTechPSE/EngMath/blob/master/etcs/2019_2_FinalProject.ipynb)"
      ]
    },
    {
      "cell_type": "markdown",
      "metadata": {
        "id": "-YR13hBwYwrR",
        "colab_type": "text"
      },
      "source": [
        "## Laplace's Equation in the Sphere"
      ]
    },
    {
      "cell_type": "markdown",
      "metadata": {
        "id": "M4-Rh-nCYwrT",
        "colab_type": "text"
      },
      "source": [
        "We consider the boundary value problem\n",
        "\n",
        ">$\\begin{align*}\n",
        " u_{rr} +\\frac{2}{r} u_r &+\\frac{1}{r^2}u_{\\phi\\phi} +\\frac{\\cot\\phi}{r^2} u_{\\phi} +\\frac{1}{r^2\\sin^2\\phi}u_{\\theta\\theta} = 0, \\;\\; r < R \\\\ \n",
        " u(R,\\phi,\\theta) &= g(\\phi,\\theta)\\\\ \n",
        "\\end{align*}$\n",
        "\n",
        "in a sphere of radius $R$. (a) Solve this problem by separation of variables, (b) derive $K(r,\\phi,\\theta; R,\\varphi,\\vartheta)$ in the equivalent integral formula:\n",
        "\n",
        ">$\\displaystyle u(r,\\phi,\\theta) = \\int_0^{2\\pi} \\int_0^\\pi K(r,\\phi,\\theta; R,\\varphi,\\vartheta)\\, g(\\varphi,\\vartheta) \\sin\\varphi \\,d\\varphi \\, d\\vartheta$"
      ]
    },
    {
      "cell_type": "markdown",
      "metadata": {
        "id": "zTxEjIon4hWV",
        "colab_type": "text"
      },
      "source": [
        "### a) solution"
      ]
    },
    {
      "cell_type": "markdown",
      "metadata": {
        "id": "uQAqzgtwdlMS",
        "colab_type": "text"
      },
      "source": [
        "### STEP 1\n",
        ">$$ u(r, θ, ϕ) = R (r) Θ (θ) Φ (ϕ)$$\n"
      ]
    },
    {
      "cell_type": "markdown",
      "metadata": {
        "id": "7yHLNOYygcKy",
        "colab_type": "text"
      },
      "source": [
        "### STEP 2\n",
        ">\\begin{eqnarray*}\n",
        "       -\\frac{d^2}{d\\phi^2}\\Phi & = & m^2\\Phi, \\\\\n",
        "   -\\frac{d}{d\\theta}\\left(\\sin\\theta\\frac{d\\Theta}{d\\theta}\\right)\n",
        "       +\\frac{m^2}{\\sin\\theta}\\Theta & = & l\\sin\\theta \\Theta, \\\\\n",
        "   -\\frac{d}{dr}\\left(r^2\\frac{dR}{dr}\\right)+l R & = & 0.\n",
        "\\end{eqnarray*}\n",
        "\n"
      ]
    },
    {
      "cell_type": "markdown",
      "metadata": {
        "id": "xRkKTmeAmWKD",
        "colab_type": "text"
      },
      "source": [
        "### STEP 3\n",
        "\n",
        "\n",
        "![대체 텍스트](https://github.com/legi1993/eee/blob/master/picture/lapa-1.png?raw=true)\n",
        "\n",
        "\n",
        "![대체 텍스트](https://github.com/legi1993/eee/blob/master/picture/lapa-2.png?raw=true)\n",
        "\n",
        "\n",
        "![대체 텍스트](https://github.com/legi1993/eee/blob/master/picture/lapa-3.png?raw=true)\n",
        "\n",
        "\n",
        "![대체 텍스트](https://github.com/legi1993/eee/blob/master/picture/lapa-4.png?raw=true)"
      ]
    },
    {
      "cell_type": "markdown",
      "metadata": {
        "id": "Vc7yZQnS4nEp",
        "colab_type": "text"
      },
      "source": [
        "### b) solution\n",
        "\n",
        "$\\begin{align*} \n",
        "u를 \\theta, \\phi에 대해 미분하고 g * sin \\phi로 나누면 K값이 구해진다.\n",
        "\\end{align*}$"
      ]
    },
    {
      "cell_type": "markdown",
      "metadata": {
        "id": "hz_ZdtnhYwrV",
        "colab_type": "text"
      },
      "source": [
        "## Poisson's Equation for the Sphere\n"
      ]
    },
    {
      "cell_type": "markdown",
      "metadata": {
        "id": "wOiw0UgoYwrX",
        "colab_type": "text"
      },
      "source": [
        "We consider the problem\n",
        "\n",
        ">$\\begin{align*}\n",
        " u_{rr} +\\frac{2}{r} u_r &+\\frac{1}{r^2}u_{\\phi\\phi} +\\frac{\\cot\\phi}{r^2} u_{\\phi} +\\frac{1}{r^2\\sin^2\\phi}u_{\\theta\\theta} = -F(r,\\phi,\\theta), \\;\\; r < R \\\\ \n",
        " u(R,\\phi,\\theta) &= 0\\\\ \n",
        "\\end{align*}$\n",
        "\n",
        "(a) solve by taking the finite Fourier Transforms, (b) derive $G(r,\\phi,\\theta; \\rho,\\varphi,\\vartheta)$ in the equivalent integral formula:\n",
        "\n",
        ">$\\displaystyle u(r,\\phi,\\theta) = \\int_0^{2\\pi} \\int_0^\\pi \\int_0^R G(r,\\phi,\\theta; \\rho,\\varphi,\\vartheta)\\, F(\\rho, \\varphi,\\vartheta) \\,\\rho^2 \\sin\\varphi \\,d\\rho \\,d\\varphi \\, d\\vartheta$"
      ]
    },
    {
      "cell_type": "markdown",
      "metadata": {
        "id": "TqJH8QW6hXSW",
        "colab_type": "text"
      },
      "source": [
        "### a) solution\n",
        "\n",
        "\n"
      ]
    },
    {
      "cell_type": "markdown",
      "metadata": {
        "id": "KbhLEy8u_CQ_",
        "colab_type": "text"
      },
      "source": [
        "\n",
        "\n",
        ">$\\begin{align*}\n",
        "t를 \\phi, \\theta로 치환하여 적용한다.\n",
        "\\end{align*} $\n",
        "\n",
        ">$\\begin{align*}\n",
        "\\mathcal{F}_s [u_r] &= -\\frac{n\\pi}{R} \\mathcal{F}_c [u] \\\\\n",
        "\\mathcal{F}_s [u_{rr}]&= -\\left( \\frac{n\\pi}{R} \\right)^2 \\mathcal{F}_s [u] +\\frac{2n\\pi}{R^2} \\left[ u(0,t) \\right]\\\\\n",
        "\\mathcal{F}_s [u_t] &= \\frac{d \\mathcal{F}_s [u]}{dt} \\\\ \n",
        "\\mathcal{F}_s [u_{tt}] &= \\frac{d^2 \\mathcal{F}_s [u]}{dt^2} \\\\ \n",
        "\\end{align*} $\n",
        "\n",
        "그에 따라 구해진 U를 다시 역변환하여 구한다\n",
        "\n",
        ">$\\begin{align*}\n",
        " u &=\\sum_{n=1}^{\\infty} U \\sin\\frac{n\\pi x}{R} &\\\n",
        "\\end{align*}\n",
        "$"
      ]
    },
    {
      "cell_type": "markdown",
      "metadata": {
        "id": "KEIfSlmkAAXV",
        "colab_type": "text"
      },
      "source": [
        "### b) solution\n",
        "$\\begin{align*}\n",
        "u를 \\rho, \\varphi, \\vartheta 에대해 미분하고 F * \\rho^2로 나누면 G값이 구해진다.\n",
        "\\end{align*}$"
      ]
    },
    {
      "cell_type": "code",
      "metadata": {
        "id": "3riTX4__hija",
        "colab_type": "code",
        "colab": {}
      },
      "source": [
        ""
      ],
      "execution_count": 0,
      "outputs": []
    }
  ]
}