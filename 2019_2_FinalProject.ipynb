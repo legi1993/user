{
  "nbformat": 4,
  "nbformat_minor": 0,
  "metadata": {
    "kernelspec": {
      "display_name": "Python 3",
      "language": "python",
      "name": "python3"
    },
    "language_info": {
      "codemirror_mode": {
        "name": "ipython",
        "version": 3
      },
      "file_extension": ".py",
      "mimetype": "text/x-python",
      "name": "python",
      "nbconvert_exporter": "python",
      "pygments_lexer": "ipython3",
      "version": "3.7.5"
    },
    "colab": {
      "name": "2019_2_FinalProject.ipynb",
      "provenance": [],
      "collapsed_sections": []
    }
  },
  "cells": [
    {
      "cell_type": "markdown",
      "metadata": {
        "id": "XCEJRBNsYwrK",
        "colab_type": "text"
      },
      "source": [
        "[![Open In Colab](https://colab.research.google.com/assets/colab-badge.svg)](https://colab.research.google.com/github/SeoulTechPSE/EngMath/blob/master/etcs/2019_2_FinalProject.ipynb)"
      ]
    },
    {
      "cell_type": "markdown",
      "metadata": {
        "id": "-YR13hBwYwrR",
        "colab_type": "text"
      },
      "source": [
        "## Laplace's Equation in the Sphere"
      ]
    },
    {
      "cell_type": "markdown",
      "metadata": {
        "id": "M4-Rh-nCYwrT",
        "colab_type": "text"
      },
      "source": [
        "We consider the boundary value problem\n",
        "\n",
        ">$\\begin{align*}\n",
        " u_{rr} +\\frac{2}{r} u_r &+\\frac{1}{r^2}u_{\\phi\\phi} +\\frac{\\cot\\phi}{r^2} u_{\\phi} +\\frac{1}{r^2\\sin^2\\phi}u_{\\theta\\theta} = 0, \\;\\; r < R \\\\ \n",
        " u(R,\\phi,\\theta) &= g(\\phi,\\theta)\\\\ \n",
        "\\end{align*}$\n",
        "\n",
        "in a sphere of radius $R$. (a) Solve this problem by separation of variables, (b) derive $K(r,\\phi,\\theta; R,\\varphi,\\vartheta)$ in the equivalent integral formula:\n",
        "\n",
        ">$\\displaystyle u(r,\\phi,\\theta) = \\int_0^{2\\pi} \\int_0^\\pi K(r,\\phi,\\theta; R,\\varphi,\\vartheta)\\, g(\\varphi,\\vartheta) \\sin\\varphi \\,d\\varphi \\, d\\vartheta$"
      ]
    },
    {
      "cell_type": "markdown",
      "metadata": {
        "id": "uQAqzgtwdlMS",
        "colab_type": "text"
      },
      "source": [
        "#### Special Case 1 $\\text{ }$ $-\\;\\;g(\\phi,\\theta) = \\text{constant}$"
      ]
    },
    {
      "cell_type": "markdown",
      "metadata": {
        "id": "lJvlQegkd0WV",
        "colab_type": "text"
      },
      "source": [
        "In this case, it is clear that the solution is independent of $\\phi$ and $\\theta$, and so Laplace's equation reduces to the ODE\n",
        "\n",
        ">$\\displaystyle \\left( r^2 u_r \\right)_r = 0$\n",
        "\n",
        "This is a simple ODE that the student can easily solve; the general solution is \n",
        "\n",
        ">$\\displaystyle u(r)=\\frac{a}{r} +b$\n",
        "\n",
        "In other words, constants and $a/r$ are the only potential that depend only on the radial distance from the origin. The potential $1/r$ is very important in physics and is called the Newtonian potential"
      ]
    },
    {
      "cell_type": "markdown",
      "metadata": {
        "id": "9_uGKa1aeKbz",
        "colab_type": "text"
      },
      "source": [
        "#### Special Case 2 $\\text{ }$ $-\\;\\;g(\\phi,\\theta) = \\text{depends only on } \\phi$"
      ]
    },
    {
      "cell_type": "markdown",
      "metadata": {
        "id": "h0E5OczyeLTD",
        "colab_type": "text"
      },
      "source": [
        "Here, the Dirichlet problem takes the form\n",
        "\n",
        ">$\\displaystyle \\left( r^2 u_r \\right)_r +\\frac{1}{\\sin\\phi} \\left( \\sin\\phi\\, u_\\phi \\right)_\\phi = 0, \\;\\;\\; 0 < r < 1$\n",
        "\n",
        ">$u(1,\\phi)=g(\\phi),\\;\\;\\; 0 \\leq \\phi \\leq \\pi$\n",
        "\n",
        "Using separation of variables, we look for solutions of the form\n",
        "\n",
        ">$\\displaystyle u(r,\\phi)=R(r)\\Phi(\\phi)$\n",
        "\n",
        "and arrive at the two ODEs\n",
        "\n",
        ">$\\begin{align*}\n",
        " &\\left(\\sin\\phi\\, \\Phi' \\right)' +\\lambda \\sin\\phi \\Phi= 0\\;\\;\\;\\text{Legendre's equation}\\\\ \n",
        " &r^2R'' +2rR' -\\lambda R = 0 \\;\\;\\; \\text{Euler's equation}\n",
        "\\end{align*}$\n",
        "\n",
        "Legendre's equation isn't easy; the general strategy in solving this equation is to make the substitution\n",
        "\n",
        ">$x=\\cos\\phi$\n",
        "\n",
        "Making this change of variable gives rise to the new Legendre's equation\n",
        "\n",
        ">$\\begin{align*}\n",
        " \\left(\\sin\\phi\\, \\Phi' \\right)' &+\\lambda \\sin\\phi \\Phi= 0\\\\ \n",
        " & \\Downarrow \\;\\;x=\\cos\\phi\\\\\n",
        " \\Phi'&=\\frac{d\\Phi}{dx} \\frac{dx}{d\\phi}=-\\sin\\phi\\frac{d\\Phi}{dx} \\\\\n",
        " \\left(\\sin\\phi\\, \\Phi' \\right)'&=-\\frac{d}{dx}\\left(\\sin^2\\phi \\frac{d\\Phi}{dx} \\right) \\frac{dx}{d\\phi}\n",
        "  =\\left(\\sin^2\\phi \\frac{d^2\\Phi}{dx^2} +2\\sin\\phi\\cos\\phi \\frac{d\\phi}{dx}\\frac{d\\Phi}{dx} \\right)\\sin\\phi \\\\\n",
        "  &=\\left[ (1 -x^2) \\frac{d^2\\Phi}{dx^2} -2x\\frac{d\\Phi}{dx} \\right] \\sin\\phi \\\\\n",
        " &\\Downarrow \\\\\n",
        " (1 -x^2) \\frac{d^2\\Phi}{dx^2} &-2x\\frac{d\\Phi}{dx} +\\lambda \\Phi = 0, \\;\\;\\; -1 \\leq x \\leq 1 \\\\\n",
        " &\\Downarrow \\\\\n",
        " \\frac{d}{dx} \\left[ (1 -x^2) \\frac{d\\Phi}{dx} \\right] &+\\lambda \\Phi = 0\n",
        "\\end{align*}$\n",
        "\n",
        "One of the difficulties in this equation is that the coefficient $(1-x^2)$ of $d^2\\Phi/dx^2$ is zero at the ends of the domain $-1 \\leq x \\leq 1$. Equations like this are called singular differential equations. We arrive at a very interesting conclusion. The only bounded solutions of Legendre's equation occur when $\\lambda=n(n +1)$, $n=0,1,2,\\cdots$ and these solutions are polynomials $P_n(x)$ - Legendre polynomials\n",
        "\n",
        ">$\\begin{align*}\n",
        " &P_0(x) = 1 \\\\ \n",
        " &P_1(x) = x \\\\ \n",
        " &P_2(x) = \\frac{1}{2}(3x^2 -1) \\\\ \n",
        " &P_3(x) = \\frac{1}{2}(5x^3 -3x) \\\\\n",
        " &\\;\\;\\;\\;\\;\\;\\;\\; \\vdots \\\\\n",
        " &P_n(x) = \\frac{1}{2^n n!} \\frac{d^n}{dx^n} \\left[ (x^2 -1)^n \\right]\n",
        "\\end{align*}$\n",
        "\n",
        "The graphs of a few Legendre polynomials are shown in\n",
        "\n",
        "><img src=\"https://github.com/legi1993/eee/blob/master/picture/3.png?raw=true\" alt=\"Legendre polynomials\" width=\"600\"/>\n",
        "\n",
        "We now solve Euler's equation by substituting $\\lambda = n(n+1)$ and $R(r)=r^\\alpha$ in the equation and solving for $\\alpha$. Doing this, we get two values\n",
        "\n",
        ">$\\alpha = \\begin{cases}\n",
        "   \\;\\;\\;\\;\\;\\;\\; n \\\\ \n",
        " -(n +1) \n",
        "\\end{cases}$\n",
        "\n",
        "and, hence, Euler's equation has the general solution\n",
        "\n",
        ">$R_n(r)= a_n r^n + b_n r^{-(n +1)} \\;\\;\\xrightarrow[]{\\text{ bounded solution }}\\;\\;a_n r^n$\n",
        "\n",
        "The final step is to form the sum\n",
        "\n",
        ">$\\displaystyle u(r,\\phi) = \\sum_{n=0}^\\infty a_n r^n P_n(\\cos\\phi)\\;\\;\\;$ (SOL) \n",
        "\n",
        "in such a way that it agrees with the BC $u(R,\\phi)=g(\\phi)$. Substituting the above solution into the BC gives\n",
        "\n",
        ">$\\displaystyle g(\\phi) = \\sum_{n=0}^\\infty a_n R^n P_n(\\cos\\phi)\\$\n",
        "\n",
        "If we multiply each side of this equation by $P_m(\\cos\\phi)\\sin\\phi$ and integrate $\\phi$ from $0$ to $\\pi$, we get\n",
        "\n",
        ">$\\begin{align*}\n",
        " \\int_0^\\pi g(\\phi) R^n P_m(\\cos\\phi)\\,\\sin\\phi \\,d\\phi &= \n",
        "   \\sum_{n=0}^\\infty a_n \\int_0^{\\pi} R^n P_n(\\cos\\phi) P_m(\\cos\\phi)\\,\\sin\\phi \\, d\\phi \\\\\n",
        " &= \\sum_{n=0}^\\infty a_n \\int_{-1}^1 P_n(x)  R^nP_m(x) \\,dx \\\\ \n",
        " &=\n",
        " \\begin{cases}\n",
        "  \\;\\;\\;\\;\\, 0  & n \\neq m \\\\ \n",
        "  \\displaystyle \\frac{2}{2m +1}\\, a_m & n = m \n",
        " \\end{cases} \\\\ \n",
        " &\\Downarrow \\\\ \n",
        " a_n &=\\frac{2n +1}{2} \\int_0^{2\\pi} g(\\phi) R^n P_n(\\cos\\phi)\\, \\sin \\phi \\,d\\phi\n",
        "\\end{align*}$"
      ]
    },
    {
      "cell_type": "markdown",
      "metadata": {
        "id": "hz_ZdtnhYwrV",
        "colab_type": "text"
      },
      "source": [
        "## Poisson's Equation for the Sphere"
      ]
    },
    {
      "cell_type": "markdown",
      "metadata": {
        "id": "wOiw0UgoYwrX",
        "colab_type": "text"
      },
      "source": [
        "We consider the problem\n",
        "\n",
        ">$\\begin{align*}\n",
        " u_{rr} +\\frac{2}{r} u_r &+\\frac{1}{r^2}u_{\\phi\\phi} +\\frac{\\cot\\phi}{r^2} u_{\\phi} +\\frac{1}{r^2\\sin^2\\phi}u_{\\theta\\theta} = -F(r,\\phi,\\theta), \\;\\; r < R \\\\ \n",
        " u(R,\\phi,\\theta) &= 0\\\\ \n",
        "\\end{align*}$\n",
        "\n",
        "(a) solve by taking the finite Fourier Transforms, (b) derive $G(r,\\phi,\\theta; \\rho,\\varphi,\\vartheta)$ in the equivalent integral formula:\n",
        "\n",
        ">$\\displaystyle u(r,\\phi,\\theta) = \\int_0^{2\\pi} \\int_0^\\pi \\int_0^R G(r,\\phi,\\theta; \\rho,\\varphi,\\vartheta)\\, F(\\rho, \\varphi,\\vartheta) \\,\\rho^2 \\sin\\varphi \\,d\\rho \\,d\\varphi \\, d\\vartheta$"
      ]
    },
    {
      "cell_type": "markdown",
      "metadata": {
        "id": "TqJH8QW6hXSW",
        "colab_type": "text"
      },
      "source": [
        "1. Using the finite Fourier Transforms"
      ]
    },
    {
      "cell_type": "code",
      "metadata": {
        "id": "3riTX4__hija",
        "colab_type": "code",
        "colab": {}
      },
      "source": [
        ""
      ],
      "execution_count": 0,
      "outputs": []
    }
  ]
}